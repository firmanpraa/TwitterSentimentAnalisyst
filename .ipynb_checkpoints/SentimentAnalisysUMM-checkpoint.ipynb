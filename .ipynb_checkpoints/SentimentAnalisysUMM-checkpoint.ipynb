{
 "cells": [
  {
   "cell_type": "code",
   "execution_count": 1,
   "metadata": {},
   "outputs": [],
   "source": [
    "import pandas as pd\n",
    "import os\n",
    "import re\n",
    "import string as st\n",
    "from Sastrawi.Stemmer.StemmerFactory import StemmerFactory\n",
    "from nltk.tokenize import sent_tokenize\n",
    "from Sastrawi.StopWordRemover.StopWordRemoverFactory import StopWordRemoverFactory\n",
    "import nltk"
   ]
  },
  {
   "cell_type": "code",
   "execution_count": 2,
   "metadata": {},
   "outputs": [
    {
     "data": {
      "text/html": [
       "<div>\n",
       "<style scoped>\n",
       "    .dataframe tbody tr th:only-of-type {\n",
       "        vertical-align: middle;\n",
       "    }\n",
       "\n",
       "    .dataframe tbody tr th {\n",
       "        vertical-align: top;\n",
       "    }\n",
       "\n",
       "    .dataframe thead th {\n",
       "        text-align: right;\n",
       "    }\n",
       "</style>\n",
       "<table border=\"1\" class=\"dataframe\">\n",
       "  <thead>\n",
       "    <tr style=\"text-align: right;\">\n",
       "      <th></th>\n",
       "      <th>text</th>\n",
       "      <th>date</th>\n",
       "    </tr>\n",
       "  </thead>\n",
       "  <tbody>\n",
       "    <tr>\n",
       "      <td>0</td>\n",
       "      <td>@ummcampus ngadain Kompetisi Karya Kreatif, al...</td>\n",
       "      <td>2019-12-18 08:42:09</td>\n",
       "    </tr>\n",
       "    <tr>\n",
       "      <td>1</td>\n",
       "      <td>Banyak banget agenda dari @ummcampus yang dise...</td>\n",
       "      <td>2019-12-18 08:28:37</td>\n",
       "    </tr>\n",
       "    <tr>\n",
       "      <td>2</td>\n",
       "      <td>Jadi anak bola dulu aja, gitu tahapannya dik w...</td>\n",
       "      <td>2019-12-16 21:53:03</td>\n",
       "    </tr>\n",
       "    <tr>\n",
       "      <td>3</td>\n",
       "      <td>Berbicara HAM berarti kebebasan berekspresi ko...</td>\n",
       "      <td>2019-12-16 16:46:40</td>\n",
       "    </tr>\n",
       "    <tr>\n",
       "      <td>4</td>\n",
       "      <td>Aku mau main, tapi ga boleh loh....wkwkwkwkwk</td>\n",
       "      <td>2019-12-16 13:27:12</td>\n",
       "    </tr>\n",
       "    <tr>\n",
       "      <td>...</td>\n",
       "      <td>...</td>\n",
       "      <td>...</td>\n",
       "    </tr>\n",
       "    <tr>\n",
       "      <td>2995</td>\n",
       "      <td>Melalui Prodi Kehutanan Fakultas Pertanian dan...</td>\n",
       "      <td>2019-02-25 07:15:20</td>\n",
       "    </tr>\n",
       "    <tr>\n",
       "      <td>2996</td>\n",
       "      <td>Bukannya itu yg kamu mau? Wkwkwk</td>\n",
       "      <td>2019-02-25 02:35:41</td>\n",
       "    </tr>\n",
       "    <tr>\n",
       "      <td>2997</td>\n",
       "      <td>Duhh jadi takut famous wkwkkwkwkw</td>\n",
       "      <td>2019-02-25 02:33:28</td>\n",
       "    </tr>\n",
       "    <tr>\n",
       "      <td>2998</td>\n",
       "      <td>Dibaliho depan kampus wkwkwk</td>\n",
       "      <td>2019-02-25 02:31:06</td>\n",
       "    </tr>\n",
       "    <tr>\n",
       "      <td>2999</td>\n",
       "      <td>Tinggal nunggu direkrut berarti hahaha</td>\n",
       "      <td>2019-02-25 02:30:15</td>\n",
       "    </tr>\n",
       "  </tbody>\n",
       "</table>\n",
       "<p>3000 rows × 2 columns</p>\n",
       "</div>"
      ],
      "text/plain": [
       "                                                   text                 date\n",
       "0     @ummcampus ngadain Kompetisi Karya Kreatif, al...  2019-12-18 08:42:09\n",
       "1     Banyak banget agenda dari @ummcampus yang dise...  2019-12-18 08:28:37\n",
       "2     Jadi anak bola dulu aja, gitu tahapannya dik w...  2019-12-16 21:53:03\n",
       "3     Berbicara HAM berarti kebebasan berekspresi ko...  2019-12-16 16:46:40\n",
       "4         Aku mau main, tapi ga boleh loh....wkwkwkwkwk  2019-12-16 13:27:12\n",
       "...                                                 ...                  ...\n",
       "2995  Melalui Prodi Kehutanan Fakultas Pertanian dan...  2019-02-25 07:15:20\n",
       "2996                   Bukannya itu yg kamu mau? Wkwkwk  2019-02-25 02:35:41\n",
       "2997                  Duhh jadi takut famous wkwkkwkwkw  2019-02-25 02:33:28\n",
       "2998                       Dibaliho depan kampus wkwkwk  2019-02-25 02:31:06\n",
       "2999             Tinggal nunggu direkrut berarti hahaha  2019-02-25 02:30:15\n",
       "\n",
       "[3000 rows x 2 columns]"
      ]
     },
     "execution_count": 2,
     "metadata": {},
     "output_type": "execute_result"
    }
   ],
   "source": [
    "path = '/Volumes/MAC HDD/Study/UMM/Semester 5/Fungsional/Twitter/TwitterSentimentAnalisyst/output_got.csv'\n",
    "data = pd.read_csv(path)   \n",
    "dataframe = pd.DataFrame(data, columns= ['text','date'])\n",
    "dataframe"
   ]
  },
  {
   "cell_type": "code",
   "execution_count": 3,
   "metadata": {},
   "outputs": [],
   "source": [
    "def preprocessing_tweets(text):\n",
    "    lower = text.lower()\n",
    "    cleaned_uri = re.sub(r'(?i)\\b((?:https?://|www\\d{0,3}[.]|[a-z0-9.\\-]+[.][a-z]{2,4}/)(?:[^\\s()<>]+|\\(([^\\s()<>]+|(\\([^\\s()<>]+\\)))*\\))+(?:\\(([^\\s()<>]+|(\\([^\\s()<>]+\\)))*\\)|[^\\s`!()\\[\\]{};:\\'\".,<>?«»“”‘’]))', '', lower)\n",
    "    cleaned_user = re.sub(r'@\\w+', '', cleaned_uri)\n",
    "    cleaned_hashtag = re.sub(r'#\\w+', '', cleaned_user)\n",
    "    cleaned_number = re.sub(r'\\d+', '', cleaned_hashtag)\n",
    "    cleaned_punc = cleaned_number.translate(str.maketrans(\"\",\"\",st.punctuation))\n",
    "    empty_spaced = cleaned_punc.replace('\\n','').strip()\n",
    "    factory = StemmerFactory()\n",
    "    stemmer = factory.create_stemmer()\n",
    "    steamed = stemmer.stem(empty_spaced)\n",
    "    factory = StopWordRemoverFactory()\n",
    "    stopword = factory.create_stop_word_remover()\n",
    "    cleaned_tweets = stopword.remove(steamed)\n",
    "    return cleaned_tweets"
   ]
  },
  {
   "cell_type": "code",
   "execution_count": 4,
   "metadata": {},
   "outputs": [],
   "source": [
    "dataframe['cleaned_tweets'] = dataframe['text'].apply(preprocessing_tweets)\n",
    "dataframe = dataframe.drop_duplicates(subset=\"cleaned_tweets\", inplace=False)"
   ]
  },
  {
   "cell_type": "code",
   "execution_count": 5,
   "metadata": {},
   "outputs": [],
   "source": [
    "from nltk.tokenize import word_tokenize\n",
    "dataframe = dataframe[dataframe['cleaned_tweets'] != \"\"]\n",
    "dataframe['len'] = [len(x) for x in dataframe.text]"
   ]
  },
  {
   "cell_type": "code",
   "execution_count": 6,
   "metadata": {},
   "outputs": [],
   "source": [
    "export_csv = dataframe.to_csv(r'/Volumes/MAC HDD/Study/UMM/Semester 5/Fungsional/Twitter/TwitterSentimentAnalisyst/umm_cleaned_3.csv', index = None, header=True)"
   ]
  },
  {
   "cell_type": "code",
   "execution_count": 7,
   "metadata": {},
   "outputs": [
    {
     "data": {
      "text/html": [
       "<div>\n",
       "<style scoped>\n",
       "    .dataframe tbody tr th:only-of-type {\n",
       "        vertical-align: middle;\n",
       "    }\n",
       "\n",
       "    .dataframe tbody tr th {\n",
       "        vertical-align: top;\n",
       "    }\n",
       "\n",
       "    .dataframe thead th {\n",
       "        text-align: right;\n",
       "    }\n",
       "</style>\n",
       "<table border=\"1\" class=\"dataframe\">\n",
       "  <thead>\n",
       "    <tr style=\"text-align: right;\">\n",
       "      <th></th>\n",
       "      <th>text</th>\n",
       "      <th>date</th>\n",
       "      <th>cleaned_tweets</th>\n",
       "      <th>len</th>\n",
       "    </tr>\n",
       "  </thead>\n",
       "  <tbody>\n",
       "    <tr>\n",
       "      <td>0</td>\n",
       "      <td>@ummcampus ngadain Kompetisi Karya Kreatif, al...</td>\n",
       "      <td>2019-12-18 08:42:09</td>\n",
       "      <td>ngadain kompetisi karya kreatif alias lomba pk...</td>\n",
       "      <td>175</td>\n",
       "    </tr>\n",
       "    <tr>\n",
       "      <td>1</td>\n",
       "      <td>Banyak banget agenda dari @ummcampus yang dise...</td>\n",
       "      <td>2019-12-18 08:28:37</td>\n",
       "      <td>banyak banget agenda yang diselenggarain buat ...</td>\n",
       "      <td>140</td>\n",
       "    </tr>\n",
       "    <tr>\n",
       "      <td>2</td>\n",
       "      <td>Jadi anak bola dulu aja, gitu tahapannya dik w...</td>\n",
       "      <td>2019-12-16 21:53:03</td>\n",
       "      <td>jadi anak bola dulu aja gitu tahap dik wkkkk</td>\n",
       "      <td>50</td>\n",
       "    </tr>\n",
       "    <tr>\n",
       "      <td>3</td>\n",
       "      <td>Berbicara HAM berarti kebebasan berekspresi ko...</td>\n",
       "      <td>2019-12-16 16:46:40</td>\n",
       "      <td>bicara ham arti bebas ekspres kok malah atur s...</td>\n",
       "      <td>85</td>\n",
       "    </tr>\n",
       "    <tr>\n",
       "      <td>4</td>\n",
       "      <td>Aku mau main, tapi ga boleh loh....wkwkwkwkwk</td>\n",
       "      <td>2019-12-16 13:27:12</td>\n",
       "      <td>aku mau main ga lohwkwkwkwkwk</td>\n",
       "      <td>45</td>\n",
       "    </tr>\n",
       "    <tr>\n",
       "      <td>...</td>\n",
       "      <td>...</td>\n",
       "      <td>...</td>\n",
       "      <td>...</td>\n",
       "      <td>...</td>\n",
       "    </tr>\n",
       "    <tr>\n",
       "      <td>2995</td>\n",
       "      <td>Melalui Prodi Kehutanan Fakultas Pertanian dan...</td>\n",
       "      <td>2019-02-25 07:15:20</td>\n",
       "      <td>lalu prodi hutan fakultas tani terna tunjuk ke...</td>\n",
       "      <td>307</td>\n",
       "    </tr>\n",
       "    <tr>\n",
       "      <td>2996</td>\n",
       "      <td>Bukannya itu yg kamu mau? Wkwkwk</td>\n",
       "      <td>2019-02-25 02:35:41</td>\n",
       "      <td>bukan yg kamu mau wkwkwk</td>\n",
       "      <td>32</td>\n",
       "    </tr>\n",
       "    <tr>\n",
       "      <td>2997</td>\n",
       "      <td>Duhh jadi takut famous wkwkkwkwkw</td>\n",
       "      <td>2019-02-25 02:33:28</td>\n",
       "      <td>duhh jadi takut famous wkwkkwkwkw</td>\n",
       "      <td>33</td>\n",
       "    </tr>\n",
       "    <tr>\n",
       "      <td>2998</td>\n",
       "      <td>Dibaliho depan kampus wkwkwk</td>\n",
       "      <td>2019-02-25 02:31:06</td>\n",
       "      <td>baliho depan kampus wkwkwk</td>\n",
       "      <td>28</td>\n",
       "    </tr>\n",
       "    <tr>\n",
       "      <td>2999</td>\n",
       "      <td>Tinggal nunggu direkrut berarti hahaha</td>\n",
       "      <td>2019-02-25 02:30:15</td>\n",
       "      <td>tinggal nunggu rekrut arti hahaha</td>\n",
       "      <td>38</td>\n",
       "    </tr>\n",
       "  </tbody>\n",
       "</table>\n",
       "<p>2961 rows × 4 columns</p>\n",
       "</div>"
      ],
      "text/plain": [
       "                                                   text                 date  \\\n",
       "0     @ummcampus ngadain Kompetisi Karya Kreatif, al...  2019-12-18 08:42:09   \n",
       "1     Banyak banget agenda dari @ummcampus yang dise...  2019-12-18 08:28:37   \n",
       "2     Jadi anak bola dulu aja, gitu tahapannya dik w...  2019-12-16 21:53:03   \n",
       "3     Berbicara HAM berarti kebebasan berekspresi ko...  2019-12-16 16:46:40   \n",
       "4         Aku mau main, tapi ga boleh loh....wkwkwkwkwk  2019-12-16 13:27:12   \n",
       "...                                                 ...                  ...   \n",
       "2995  Melalui Prodi Kehutanan Fakultas Pertanian dan...  2019-02-25 07:15:20   \n",
       "2996                   Bukannya itu yg kamu mau? Wkwkwk  2019-02-25 02:35:41   \n",
       "2997                  Duhh jadi takut famous wkwkkwkwkw  2019-02-25 02:33:28   \n",
       "2998                       Dibaliho depan kampus wkwkwk  2019-02-25 02:31:06   \n",
       "2999             Tinggal nunggu direkrut berarti hahaha  2019-02-25 02:30:15   \n",
       "\n",
       "                                         cleaned_tweets  len  \n",
       "0     ngadain kompetisi karya kreatif alias lomba pk...  175  \n",
       "1     banyak banget agenda yang diselenggarain buat ...  140  \n",
       "2          jadi anak bola dulu aja gitu tahap dik wkkkk   50  \n",
       "3     bicara ham arti bebas ekspres kok malah atur s...   85  \n",
       "4                         aku mau main ga lohwkwkwkwkwk   45  \n",
       "...                                                 ...  ...  \n",
       "2995  lalu prodi hutan fakultas tani terna tunjuk ke...  307  \n",
       "2996                           bukan yg kamu mau wkwkwk   32  \n",
       "2997                  duhh jadi takut famous wkwkkwkwkw   33  \n",
       "2998                         baliho depan kampus wkwkwk   28  \n",
       "2999                  tinggal nunggu rekrut arti hahaha   38  \n",
       "\n",
       "[2961 rows x 4 columns]"
      ]
     },
     "execution_count": 7,
     "metadata": {},
     "output_type": "execute_result"
    }
   ],
   "source": [
    "dataframe"
   ]
  },
  {
   "cell_type": "code",
   "execution_count": 80,
   "metadata": {},
   "outputs": [],
   "source": [
    "import numpy as np\n",
    "import pandas as pd\n",
    "from sklearn.model_selection import train_test_split\n",
    "from sklearn.feature_extraction.text import CountVectorizer\n",
    "from sklearn.pipeline import Pipeline\n",
    "from sklearn.feature_extraction.text import TfidfTransformer\n",
    "from sklearn.feature_extraction.text import TfidfVectorizer\n",
    "from sklearn import model_selection, naive_bayes, svm\n",
    "from sklearn.linear_model import SGDClassifier\n",
    "from sklearn.naive_bayes import MultinomialNB\n",
    "from sklearn.preprocessing import LabelEncoder\n",
    "from sklearn.metrics import accuracy_score\n",
    "import pickle\n",
    "from sklearn.externals import joblib\n",
    "file_svm = 'model_svm_2.sav'\n",
    "file_vect = 'vocab.pk'"
   ]
  },
  {
   "cell_type": "code",
   "execution_count": 81,
   "metadata": {},
   "outputs": [],
   "source": [
    "path = '/Volumes/MAC HDD/Study/UMM/Semester 5/Fungsional/Twitter/TwitterSentimentAnalisyst/umm_label.csv'\n",
    "dataframe = pd.read_csv(path)\n",
    "dataframe = dataframe.head(3000)"
   ]
  },
  {
   "cell_type": "code",
   "execution_count": 82,
   "metadata": {},
   "outputs": [],
   "source": [
    "def tf_idf(text, max_feat=None):\n",
    "    tfidf_vect = TfidfVectorizer(max_features=max_feat)\n",
    "    tfidf_vect.fit(text)\n",
    "    return tfidf_vect"
   ]
  },
  {
   "cell_type": "code",
   "execution_count": 83,
   "metadata": {},
   "outputs": [],
   "source": [
    "def build_svm_model(cleaned_data, sentiment, vectorizer, max_features_tfidf = 3000, split_size = 0.20):\n",
    "    train_x, test_x, train_y, test_y = train_test_split(cleaned_data, sentiment, test_size=split_size, random_state=42)\n",
    "    print(\"train target shape {} : test target shape {}\".format(train_y.shape, test_y.shape))\n",
    "    train_x_tfidf = vectorizer.transform(train_x)\n",
    "    test_x_tfidf = vectorizer.transform(test_x)\n",
    "    SVM = svm.SVC(C=1.0, kernel='linear', degree=3, gamma='auto')\n",
    "    SVM.fit(train_x_tfidf,train_y)\n",
    "    predictions_SVM = SVM.predict(test_x_tfidf)\n",
    "    print(\"SVM Accuracy Score -> \",accuracy_score(predictions_SVM, test_y)*100)\n",
    "    return SVM"
   ]
  },
  {
   "cell_type": "code",
   "execution_count": 84,
   "metadata": {},
   "outputs": [
    {
     "name": "stdout",
     "output_type": "stream",
     "text": [
      "train target shape (2368,) : test target shape (593,)\n",
      "SVM Accuracy Score ->  70.48903878583474\n"
     ]
    }
   ],
   "source": [
    "vectorizer = tf_idf(dataframe.cleaned_tweets)\n",
    "svm_model = build_svm_model(dataframe.cleaned_tweets, dataframe.sentiment, vectorizer)\n",
    "with open(file_svm, 'wb') as file:\n",
    "    pickle.dump(svm_model, file)\n",
    "with open(file_vect, 'wb') as file:\n",
    "    pickle.dump(vectorizer, file)"
   ]
  },
  {
   "cell_type": "code",
   "execution_count": 85,
   "metadata": {},
   "outputs": [
    {
     "data": {
      "text/plain": [
       "['model_svm_2.sav']"
      ]
     },
     "execution_count": 85,
     "metadata": {},
     "output_type": "execute_result"
    }
   ],
   "source": [
    "from sklearn.externals import joblib\n",
    "filename = 'model_svm_2.sav'\n",
    "joblib.dump(SVM, filename)"
   ]
  },
  {
   "cell_type": "code",
   "execution_count": 86,
   "metadata": {},
   "outputs": [
    {
     "data": {
      "text/plain": [
       " 0    1725\n",
       " 1    1103\n",
       "-1     133\n",
       "Name: sentiment, dtype: int64"
      ]
     },
     "execution_count": 86,
     "metadata": {},
     "output_type": "execute_result"
    }
   ],
   "source": [
    "dataframe['sentiment'].value_counts()"
   ]
  },
  {
   "cell_type": "code",
   "execution_count": 70,
   "metadata": {},
   "outputs": [
    {
     "data": {
      "text/plain": [
       "<matplotlib.axes._subplots.AxesSubplot at 0x1a1e67b750>"
      ]
     },
     "execution_count": 70,
     "metadata": {},
     "output_type": "execute_result"
    },
    {
     "data": {
      "image/png": "[encoded data removed]",
      "text/plain": [
       "<Figure size 432x288 with 1 Axes>"
      ]
     },
     "metadata": {
      "needs_background": "light"
     },
     "output_type": "display_data"
    }
   ],
   "source": [
    "import seaborn as sns\n",
    "sns.countplot(x=dataframe['sentiment'] , data=dataframe)"
   ]
  },
  {
   "cell_type": "code",
   "execution_count": 77,
   "metadata": {},
   "outputs": [],
   "source": [
    "from sklearn.feature_extraction.text import TfidfVectorizer\n",
    "from sklearn import svm\n",
    "from sklearn.metrics import accuracy_score\n",
    "\n",
    "\n",
    "def build_svm_model(cleaned_data, sentiment, vectorizer, max_features_tfidf = 3000, split_size = 0.30):\n",
    "    train_x, test_x, train_y, test_y = train_test_split(cleaned_data, sentiment, test_size=split_size, random_state=42)\n",
    "    \n",
    "    Tfidf_vect = TfidfVectorizer(max_features=5000)\n",
    "    Tfidf_vect.fit(dataframe.cleaned_tweets.values.astype('U'))\n",
    "    Train_X_Tfidf = Tfidf_vect.transform(train_x.values.astype('U'))\n",
    "    Test_X_Tfidf = Tfidf_vect.transform(test_x.values.astype('U'))\n",
    "    \n",
    "    SVM = svm.SVC(C=5.0, kernel='linear', degree=3, gamma='auto')\n",
    "    SVM.fit(Train_X_Tfidf,train_y)\n",
    "    # predict the labels on validation dataset\n",
    "    predictions_SVM = SVM.predict(Test_X_Tfidf)\n",
    "    # Use accuracy_score function to get the accuracy\n",
    "    print(\"SVM Accuracy Score -> \",accuracy_score(predictions_SVM, test_y)*100)\n",
    "    return SVM"
   ]
  },
  {
   "cell_type": "code",
   "execution_count": 78,
   "metadata": {},
   "outputs": [
    {
     "name": "stdout",
     "output_type": "stream",
     "text": [
      "SVM Accuracy Score ->  62.429696287964006\n"
     ]
    }
   ],
   "source": [
    "vectorizer = tf_idf(dataframe.cleaned_tweets)\n",
    "svm_model = build_svm_model(dataframe.cleaned_tweets, dataframe.sentiment, vectorizer)\n",
    "with open(file_svm, 'wb') as file:\n",
    "    pickle.dump(svm_model, file)\n",
    "with open(file_vect, 'wb') as file:\n",
    "    pickle.dump(vectorizer, file)"
   ]
  },
  {
   "cell_type": "code",
   "execution_count": null,
   "metadata": {},
   "outputs": [],
   "source": []
  }
 ],
 "metadata": {
  "kernelspec": {
   "display_name": "Python 3",
   "language": "python",
   "name": "python3"
  },
  "language_info": {
   "codemirror_mode": {
    "name": "ipython",
    "version": 3
   },
   "file_extension": ".py",
   "mimetype": "text/x-python",
   "name": "python",
   "nbconvert_exporter": "python",
   "pygments_lexer": "ipython3",
   "version": "3.7.4"
  }
 },
 "nbformat": 4,
 "nbformat_minor": 4
}
